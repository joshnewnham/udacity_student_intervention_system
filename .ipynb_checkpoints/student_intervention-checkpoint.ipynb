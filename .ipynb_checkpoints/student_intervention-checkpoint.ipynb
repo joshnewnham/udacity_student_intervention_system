{
 "cells": [
  {
   "cell_type": "markdown",
   "metadata": {},
   "source": [
    "# Project 2: Supervised Learning\n",
    "### Building a Student Intervention System"
   ]
  },
  {
   "cell_type": "raw",
   "metadata": {},
   "source": [
    "Version 3"
   ]
  },
  {
   "cell_type": "markdown",
   "metadata": {},
   "source": [
    "## 1. Classification vs Regression\n",
    "\n",
    "Your goal is to identify students who might need early intervention - which type of supervised machine learning problem is this, classification or regression? Why?"
   ]
  },
  {
   "cell_type": "raw",
   "metadata": {},
   "source": [
    "Classification; Because we're trying to classify/predict a discrete (in this case, binary) class."
   ]
  },
  {
   "cell_type": "markdown",
   "metadata": {},
   "source": [
    "## 2. Exploring the Data\n",
    "\n",
    "Let's go ahead and read in the student dataset first.\n",
    "\n",
    "_To execute a code cell, click inside it and press **Shift+Enter**._"
   ]
  },
  {
   "cell_type": "code",
   "execution_count": 2,
   "metadata": {
    "collapsed": false
   },
   "outputs": [],
   "source": [
    "# Import libraries\n",
    "import numpy as np\n",
    "import pandas as pd\n",
    "import random "
   ]
  },
  {
   "cell_type": "code",
   "execution_count": 3,
   "metadata": {
    "collapsed": true
   },
   "outputs": [],
   "source": [
    "# Render our plots inline\n",
    "%matplotlib inline\n",
    "\n",
    "# Import the necessary modules\n",
    "import matplotlib.pyplot as plt\n",
    "\n",
    "pd.set_option('display.mpl_style', 'default') # Make the graphs a bit prettier\n",
    "plt.rcParams['figure.figsize'] = (15, 5) # set the size of the output"
   ]
  },
  {
   "cell_type": "code",
   "execution_count": 4,
   "metadata": {
    "collapsed": false
   },
   "outputs": [
    {
     "name": "stdout",
     "output_type": "stream",
     "text": [
      "Student data read successfully!\n"
     ]
    }
   ],
   "source": [
    "# Read student data\n",
    "student_data = pd.read_csv(\"student-data.csv\")\n",
    "print \"Student data read successfully!\"\n",
    "# Note: The last column 'passed' is the target/label, all other are feature columns"
   ]
  },
  {
   "cell_type": "markdown",
   "metadata": {},
   "source": [
    "Now, can you find out the following facts about the dataset?\n",
    "- Total number of students\n",
    "- Number of students who passed\n",
    "- Number of students who failed\n",
    "- Graduation rate of the class (%)\n",
    "- Number of features\n",
    "\n",
    "_Use the code block below to compute these values. Instructions/steps are marked using **TODO**s._"
   ]
  },
  {
   "cell_type": "code",
   "execution_count": 5,
   "metadata": {
    "collapsed": false
   },
   "outputs": [
    {
     "data": {
      "text/plain": [
       "130"
      ]
     },
     "execution_count": 5,
     "metadata": {},
     "output_type": "execute_result"
    }
   ],
   "source": [
    "student_data.count(axis=0)[0]\n",
    "student_data.count(axis=1)[0]\n",
    "#list(student_data.columns)\n",
    "student_data[student_data['passed'] == 'yes']['passed'].count()\n",
    "student_data[student_data['passed'] == 'no']['passed'].count()"
   ]
  },
  {
   "cell_type": "code",
   "execution_count": 6,
   "metadata": {
    "collapsed": false
   },
   "outputs": [
    {
     "name": "stdout",
     "output_type": "stream",
     "text": [
      "Total number of students: 395\n",
      "Number of students who passed: 265\n",
      "Number of students who failed: 130\n",
      "Number of features: 30\n",
      "Graduation rate of the class: 67.09%\n"
     ]
    }
   ],
   "source": [
    "# TODO: Compute desired values - replace each '?' with an appropriate expression/function call\n",
    "n_students = student_data.count(axis=0)[0]\n",
    "n_features = student_data.drop(['passed'], axis=1).count(axis=1)[0]\n",
    "n_passed = student_data[student_data['passed'] == 'yes']['passed'].count()\n",
    "n_failed = student_data[student_data['passed'] == 'no']['passed'].count()\n",
    "grad_rate = (float(n_passed)/float(n_students))*100\n",
    "print \"Total number of students: {}\".format(n_students)\n",
    "print \"Number of students who passed: {}\".format(n_passed)\n",
    "print \"Number of students who failed: {}\".format(n_failed)\n",
    "print \"Number of features: {}\".format(n_features)\n",
    "print \"Graduation rate of the class: {:.2f}%\".format(grad_rate)"
   ]
  },
  {
   "cell_type": "markdown",
   "metadata": {},
   "source": [
    "## 3. Preparing the Data\n",
    "In this section, we will prepare the data for modeling, training and testing.\n",
    "\n",
    "### Identify feature and target columns\n",
    "It is often the case that the data you obtain contains non-numeric features. This can be a problem, as most machine learning algorithms expect numeric data to perform computations with.\n",
    "\n",
    "Let's first separate our data into feature and target columns, and see if any features are non-numeric.<br/>\n",
    "**Note**: For this dataset, the last column (`'passed'`) is the target or label we are trying to predict."
   ]
  },
  {
   "cell_type": "code",
   "execution_count": 7,
   "metadata": {
    "collapsed": false
   },
   "outputs": [
    {
     "name": "stdout",
     "output_type": "stream",
     "text": [
      "Feature column(s):-\n",
      "['school', 'sex', 'age', 'address', 'famsize', 'Pstatus', 'Medu', 'Fedu', 'Mjob', 'Fjob', 'reason', 'guardian', 'traveltime', 'studytime', 'failures', 'schoolsup', 'famsup', 'paid', 'activities', 'nursery', 'higher', 'internet', 'romantic', 'famrel', 'freetime', 'goout', 'Dalc', 'Walc', 'health', 'absences']\n",
      "Target column: passed\n",
      "\n",
      "Feature values:-\n",
      "  school sex  age address famsize Pstatus  Medu  Fedu     Mjob      Fjob  \\\n",
      "0     GP   F   18       U     GT3       A     4     4  at_home   teacher   \n",
      "1     GP   F   17       U     GT3       T     1     1  at_home     other   \n",
      "2     GP   F   15       U     LE3       T     1     1  at_home     other   \n",
      "3     GP   F   15       U     GT3       T     4     2   health  services   \n",
      "4     GP   F   16       U     GT3       T     3     3    other     other   \n",
      "\n",
      "    ...    higher internet  romantic  famrel  freetime goout Dalc Walc health  \\\n",
      "0   ...       yes       no        no       4         3     4    1    1      3   \n",
      "1   ...       yes      yes        no       5         3     3    1    1      3   \n",
      "2   ...       yes      yes        no       4         3     2    2    3      3   \n",
      "3   ...       yes      yes       yes       3         2     2    1    1      5   \n",
      "4   ...       yes       no        no       4         3     2    1    2      5   \n",
      "\n",
      "  absences  \n",
      "0        6  \n",
      "1        4  \n",
      "2       10  \n",
      "3        2  \n",
      "4        4  \n",
      "\n",
      "[5 rows x 30 columns]\n"
     ]
    }
   ],
   "source": [
    "# Extract feature (X) and target (y) columns\n",
    "feature_cols = list(student_data.columns[:-1])  # all columns but last are features\n",
    "target_col = student_data.columns[-1]  # last column is the target/label\n",
    "print \"Feature column(s):-\\n{}\".format(feature_cols)\n",
    "print \"Target column: {}\".format(target_col)\n",
    "\n",
    "X_all = student_data[feature_cols]  # feature values for all students\n",
    "y_all = student_data[target_col]  # corresponding targets/labels\n",
    "print \"\\nFeature values:-\"\n",
    "print X_all.head()  # print the first 5 rows"
   ]
  },
  {
   "cell_type": "markdown",
   "metadata": {},
   "source": [
    "### Preprocess feature columns\n",
    "\n",
    "As you can see, there are several non-numeric columns that need to be converted! Many of them are simply `yes`/`no`, e.g. `internet`. These can be reasonably converted into `1`/`0` (binary) values.\n",
    "\n",
    "Other columns, like `Mjob` and `Fjob`, have more than two values, and are known as _categorical variables_. The recommended way to handle such a column is to create as many columns as possible values (e.g. `Fjob_teacher`, `Fjob_other`, `Fjob_services`, etc.), and assign a `1` to one of them and `0` to all others.\n",
    "\n",
    "These generated columns are sometimes called _dummy variables_, and we will use the [`pandas.get_dummies()`](http://pandas.pydata.org/pandas-docs/stable/generated/pandas.get_dummies.html?highlight=get_dummies#pandas.get_dummies) function to perform this transformation."
   ]
  },
  {
   "cell_type": "code",
   "execution_count": 8,
   "metadata": {
    "collapsed": false
   },
   "outputs": [
    {
     "name": "stdout",
     "output_type": "stream",
     "text": [
      "Processed feature columns (48):-\n",
      "['school_GP', 'school_MS', 'sex_F', 'sex_M', 'age', 'address_R', 'address_U', 'famsize_GT3', 'famsize_LE3', 'Pstatus_A', 'Pstatus_T', 'Medu', 'Fedu', 'Mjob_at_home', 'Mjob_health', 'Mjob_other', 'Mjob_services', 'Mjob_teacher', 'Fjob_at_home', 'Fjob_health', 'Fjob_other', 'Fjob_services', 'Fjob_teacher', 'reason_course', 'reason_home', 'reason_other', 'reason_reputation', 'guardian_father', 'guardian_mother', 'guardian_other', 'traveltime', 'studytime', 'failures', 'schoolsup', 'famsup', 'paid', 'activities', 'nursery', 'higher', 'internet', 'romantic', 'famrel', 'freetime', 'goout', 'Dalc', 'Walc', 'health', 'absences']\n"
     ]
    }
   ],
   "source": [
    "# Preprocess feature columns\n",
    "def preprocess_features(X):\n",
    "    outX = pd.DataFrame(index=X.index)  # output dataframe, initially empty\n",
    "\n",
    "    # Check each column\n",
    "    for col, col_data in X.iteritems():\n",
    "        # If data type is non-numeric, try to replace all yes/no values with 1/0\n",
    "        if col_data.dtype == object:\n",
    "            col_data = col_data.replace(['yes', 'no'], [1, 0])\n",
    "        # Note: This should change the data type for yes/no columns to int\n",
    "\n",
    "        # If still non-numeric, convert to one or more dummy variables\n",
    "        if col_data.dtype == object:\n",
    "            col_data = pd.get_dummies(col_data, prefix=col)  # e.g. 'school' => 'school_GP', 'school_MS'\n",
    "\n",
    "        outX = outX.join(col_data)  # collect column(s) in output dataframe\n",
    "\n",
    "    return outX\n",
    "\n",
    "X_all_expanded = preprocess_features(X_all)\n",
    "print \"Processed feature columns ({}):-\\n{}\".format(len(X_all_expanded.columns), list(X_all_expanded.columns))"
   ]
  },
  {
   "cell_type": "markdown",
   "metadata": {},
   "source": [
    "### Split data into training and test sets\n",
    "\n",
    "So far, we have converted all _categorical_ features into numeric values. In this next step, we split the data (both features and corresponding labels) into training and test sets."
   ]
  },
  {
   "cell_type": "code",
   "execution_count": 9,
   "metadata": {
    "collapsed": false
   },
   "outputs": [
    {
     "name": "stdout",
     "output_type": "stream",
     "text": [
      "Total samples: 395 samples\n",
      "Training set: 300 samples\n",
      "Test set: 95 samples\n"
     ]
    }
   ],
   "source": [
    "# First, decide how many training vs test samples you want\n",
    "num_all = student_data.shape[0]  # same as len(student_data)\n",
    "#num_train = int(num_all * 0.75)  # about 75% of the data\n",
    "num_train = 300\n",
    "num_test = num_all - num_train\n",
    "\n",
    "from sklearn import cross_validation\n",
    "\n",
    "X_train, X_test, y_train, y_test = cross_validation.train_test_split(X_all_expanded, y_all,\n",
    "                                                                     test_size=num_test, random_state=42)\n",
    "\n",
    "print \"Total samples: {} samples\".format(num_all)\n",
    "print \"Training set: {} samples\".format(X_train.shape[0])\n",
    "print \"Test set: {} samples\".format(X_test.shape[0])\n",
    "# Note: If you need a validation set, extract it from within training data"
   ]
  },
  {
   "cell_type": "markdown",
   "metadata": {},
   "source": [
    "## 4. Training and Evaluating Models\n",
    "Choose 3 supervised learning models that are available in scikit-learn, and appropriate for this problem. For each model:\n",
    "\n",
    "- What is the theoretical O(n) time & space complexity in terms of input size?\n",
    "- What are the general applications of this model? What are its strengths and weaknesses?\n",
    "- Given what you know about the data so far, why did you choose this model to apply?\n",
    "- Fit this model to the training data, try to predict labels (for both training and test sets), and measure the F<sub>1</sub> score. Repeat this process with different training set sizes (100, 200, 300), keeping test set constant.\n",
    "\n",
    "Produce a table showing training time, prediction time, F<sub>1</sub> score on training set and F<sub>1</sub> score on test set, for each training set size.\n",
    "\n",
    "Note: You need to produce 3 such tables - one for each model."
   ]
  },
  {
   "cell_type": "code",
   "execution_count": 10,
   "metadata": {
    "collapsed": false
   },
   "outputs": [],
   "source": [
    "# Train a model\n",
    "import time\n",
    "\n",
    "def train_classifier(clf, X_train, y_train):\n",
    "    print \"Training {}...\".format(clf.__class__.__name__)\n",
    "    start = time.time()\n",
    "    clf.fit(X_train, y_train)\n",
    "    end = time.time()\n",
    "    print \"Done!\\nTraining time (secs): {:.3f}\\n\".format(end - start)"
   ]
  },
  {
   "cell_type": "code",
   "execution_count": 11,
   "metadata": {
    "collapsed": false
   },
   "outputs": [],
   "source": [
    "# Predict on training set and compute F1 score\n",
    "from sklearn.metrics import f1_score\n",
    "\n",
    "def predict_labels(clf, features, target, log_output=True):\n",
    "    if log_output:\n",
    "        print \"Predicting labels using {}...\".format(clf.__class__.__name__)\n",
    "    start = time.time()\n",
    "    y_pred = clf.predict(features)\n",
    "    end = time.time()\n",
    "    if log_output:\n",
    "        print \"Done!\\nPrediction time (secs): {:.3f}\".format(end - start)    \n",
    "    return f1_score(target, y_pred, pos_label='yes')"
   ]
  },
  {
   "cell_type": "code",
   "execution_count": 22,
   "metadata": {
    "collapsed": false
   },
   "outputs": [],
   "source": [
    "# Train and predict using different training set sizes\n",
    "def train_predict(clf, X_train, y_train, X_test, y_test):\n",
    "    sizes = [100, 200, 300]\n",
    "    \n",
    "    for s in sizes:  \n",
    "        X_train_b = X_train[:s]\n",
    "        y_train_b = y_train[:s]\n",
    "    \n",
    "        print \"------------------------------------------\"\n",
    "        print \"Training set size: {}\".format(len(X_train_b))\n",
    "        train_classifier(clf, X_train_b, y_train_b)\n",
    "        print \"F1 score for training set: {}\".format(predict_labels(clf, X_train_b, y_train_b))\n",
    "        print \"F1 score for test set: {}\".format(predict_labels(clf, X_test, y_test))\n",
    "        print \"\""
   ]
  },
  {
   "cell_type": "code",
   "execution_count": 13,
   "metadata": {
    "collapsed": true
   },
   "outputs": [],
   "source": [
    "def get_coefficents(clf):\n",
    "    column_coefs = []\n",
    "\n",
    "    try:\n",
    "        coef_ = clf.coef_[0]\n",
    "    except ValueError as e:\n",
    "        return None, None \n",
    "    except AttributeError as e:\n",
    "        return None, None\n",
    "    \n",
    "    for idx in range(len(coef_)):\n",
    "        col = X_all_expanded.columns[idx]\n",
    "        coef = coef_[idx]\n",
    "        column_coefs.append((col, coef))\n",
    "\n",
    "    column_coefs = sorted(column_coefs, key=lambda tup: abs(tup[1]), reverse=False)\n",
    "\n",
    "    kbest_columns = [item[0] for item in column_coefs] \n",
    "    kbest_coefs = [item[1] for item in column_coefs] \n",
    "    \n",
    "    return kbest_columns, kbest_coefs"
   ]
  },
  {
   "cell_type": "code",
   "execution_count": 14,
   "metadata": {
    "collapsed": true
   },
   "outputs": [],
   "source": [
    "def plot_scores_barh(title=\"\", feature_names=[], feature_scores=[]):\n",
    "    y_pos = np.arange(len(feature_scores)) + 0.9 \n",
    "    plt.barh(y_pos, feature_scores, align='center')\n",
    "    plt.title(title)\n",
    "    plt.xlabel(\"Score\")\n",
    "    plt.yticks(y_pos, tuple(feature_names))\n",
    "    plt.show()"
   ]
  },
  {
   "cell_type": "markdown",
   "metadata": {},
   "source": [
    "###Model 1: Logistic Regression "
   ]
  },
  {
   "cell_type": "markdown",
   "metadata": {},
   "source": [
    "**What is the theoretical O(n) time & space complexity in terms of input size?**\n",
    "<br>Time complexity: O(n_samples)  \n",
    "Space complexity: O(1) \n",
    "\n",
    "**What are the general applications of this model? What are its strengths and weaknesses?**\n",
    "<br>General applications\n",
    "- likelihood of a homeowner defaulting on a mortgage \n",
    "- Predicting the likelihood of a 'click' for ad-serving\n",
    "- Predict whether a patient has a given disease based on observed characteristics\n",
    "- ... \n",
    "\n",
    "Advantages; \n",
    "- High degree of interpretability i.e. coefficients can then be interpreted in order to understand the direction and strength of the relationships between the explanatory variables and the response variable\n",
    "- Small number of params (# depedents/features + 1 i.e. grows linearly) \n",
    "- Fast to train \n",
    "- Fast in making predictions \n",
    "- Low memory requirements \n",
    "- Scales well \n",
    "- Can use a cost function to reduce over-fitting\n",
    "- Allows for online training (incremental training) \n",
    "- Often used as a component in more complex algorithms (e.g. Neural networks)\n",
    "\n",
    "Disadvantages;\n",
    "- Performance not necessary good as alternatives (SVM, Random Forest, etc)\n",
    "- Decision boundary must be linear \n",
    "- Disregards feature dependencies \n",
    "- Does not handle categorical data \n",
    "- Influenced by outliers \n",
    "- Affected by imbalanced training data \n",
    "\n",
    "**Given what you know about the data so far, why did you choose this model to apply?**<br>\n",
    "Binary classification problem  \n",
    "\n",
    "**Fit this model to the training data, try to predict labels (for both training and test sets), and measure the F<sub>1</sub> score. Repeat this process with different training set sizes (100, 200, 300), keeping test set constant.**"
   ]
  },
  {
   "cell_type": "code",
   "execution_count": 15,
   "metadata": {
    "collapsed": false
   },
   "outputs": [
    {
     "name": "stdout",
     "output_type": "stream",
     "text": [
      "Training LogisticRegression...\n",
      "Done!\n",
      "Training time (secs): 0.004\n",
      "\n",
      "LogisticRegression(C=1.0, class_weight=None, dual=False, fit_intercept=True,\n",
      "          intercept_scaling=1, penalty='l2', random_state=42, tol=0.0001)\n",
      "Predicting labels using LogisticRegression...\n",
      "Done!\n",
      "Prediction time (secs): 0.000\n",
      "F1 score for training set: 0.846846846847\n",
      "\n",
      "Predicting labels using LogisticRegression...\n",
      "Done!\n",
      "Prediction time (secs): 0.000\n",
      "F1 score for test set: 0.805970149254\n",
      "\n",
      "------------------------------------------\n",
      "Training set size: 100\n",
      "Training LogisticRegression...\n",
      "Done!\n",
      "Training time (secs): 0.001\n",
      "\n",
      "Predicting labels using LogisticRegression...\n",
      "Done!\n",
      "Prediction time (secs): 0.000\n",
      "F1 score for training set: 0.859259259259\n",
      "Predicting labels using LogisticRegression...\n",
      "Done!\n",
      "Prediction time (secs): 0.000\n",
      "F1 score for test set: 0.764705882353\n",
      "\n",
      "------------------------------------------\n",
      "Training set size: 200\n",
      "Training LogisticRegression...\n",
      "Done!\n",
      "Training time (secs): 0.002\n",
      "\n",
      "Predicting labels using LogisticRegression...\n",
      "Done!\n",
      "Prediction time (secs): 0.000\n",
      "F1 score for training set: 0.85618729097\n",
      "Predicting labels using LogisticRegression...\n",
      "Done!\n",
      "Prediction time (secs): 0.000\n",
      "F1 score for test set: 0.791366906475\n",
      "\n",
      "------------------------------------------\n",
      "Training set size: 300\n",
      "Training LogisticRegression...\n",
      "Done!\n",
      "Training time (secs): 0.002\n",
      "\n",
      "Predicting labels using LogisticRegression...\n",
      "Done!\n",
      "Prediction time (secs): 0.000\n",
      "F1 score for training set: 0.846846846847\n",
      "Predicting labels using LogisticRegression...\n",
      "Done!\n",
      "Prediction time (secs): 0.000\n",
      "F1 score for test set: 0.805970149254\n",
      "\n"
     ]
    },
    {
     "data": {
      "image/png": "[encoded data removed]",
      "text/plain": [
       "<matplotlib.figure.Figure at 0x10ba0cad0>"
      ]
     },
     "metadata": {},
     "output_type": "display_data"
    }
   ],
   "source": [
    "from sklearn.linear_model import LogisticRegression\n",
    "clf = LogisticRegression(random_state=42)\n",
    "\n",
    "# Fit model to training data\n",
    "train_classifier(clf, X_train, y_train)  # note: using entire training set here\n",
    "print clf  # you can inspect the learned model by printing it\n",
    "\n",
    "train_f1_score = predict_labels(clf, X_train, y_train)\n",
    "print \"F1 score for training set: {}\\n\".format(train_f1_score)\n",
    "\n",
    "# Predict on test data\n",
    "print \"F1 score for test set: {}\\n\".format(predict_labels(clf, X_test, y_test))\n",
    "\n",
    "train_predict(clf, X_train, y_train, X_test, y_test)\n",
    "\n",
    "kbest_columns, kbest_coefs = get_coefficents(clf)\n",
    "plot_scores_barh('11 best features', kbest_columns[:11], kbest_coefs[:11])"
   ]
  },
  {
   "cell_type": "markdown",
   "metadata": {},
   "source": [
    "###Model 2: SVM"
   ]
  },
  {
   "cell_type": "markdown",
   "metadata": {
    "collapsed": false
   },
   "source": [
    "**What is the theoretical O(n) time & space complexity in terms of input size?**\n",
    "<br>Time complexity: O(n_samples^2 x n_features) for RBF kernel and O(n_sample x n_features) for linear SVMs\n",
    "<br>Space complexity: O(1)\n",
    "\n",
    "**What are the general applications of this model? What are its strengths and weaknesses?**\n",
    "General applications \n",
    "- Text classification\n",
    "- Image classification \n",
    "\n",
    "Advantages; \n",
    "- Works well even if your data isn’t linearly separable (with the right kernel) \n",
    "- High accuracy\n",
    "- Good at handling high-dimensional spaces \n",
    "\n",
    "Disadvantages;\n",
    "- Memory-intensive\n",
    "- Hard to interpret\n",
    "- Prone to overfitting noisy data\n",
    "- Difficult to tune \n",
    "- Don't scale well \n",
    "\n",
    "**Given what you know about the data so far, why did you choose this model to apply?**<br>\n",
    "The reason for choosing SVM was to take adjust of it's kernel properties in that being able to model more complex relationships. Thus used as a comparable to Logistic Regression.  \n",
    "\n",
    "**Fit this model to the training data, try to predict labels (for both training and test sets), and measure the F<sub>1</sub> score. Repeat this process with different training set sizes (100, 200, 300), keeping test set constant.**"
   ]
  },
  {
   "cell_type": "code",
   "execution_count": 16,
   "metadata": {
    "collapsed": false
   },
   "outputs": [
    {
     "name": "stdout",
     "output_type": "stream",
     "text": [
      "Training SVC...\n",
      "Done!\n",
      "Training time (secs): 0.008\n",
      "\n",
      "Predicting labels using SVC...\n",
      "Done!\n",
      "Prediction time (secs): 0.005\n",
      "F1 score for training set: 0.876068376068\n",
      "\n",
      "Predicting labels using SVC...\n",
      "Done!\n",
      "Prediction time (secs): 0.001\n",
      "F1 score for test set: 0.783783783784\n",
      "\n",
      "------------------------------------------\n",
      "Training set size: 100\n",
      "Training SVC...\n",
      "Done!\n",
      "Training time (secs): 0.001\n",
      "\n",
      "Predicting labels using SVC...\n",
      "Done!\n",
      "Prediction time (secs): 0.001\n",
      "F1 score for training set: 0.877697841727\n",
      "Predicting labels using SVC...\n",
      "Done!\n",
      "Prediction time (secs): 0.001\n",
      "F1 score for test set: 0.774647887324\n",
      "\n",
      "------------------------------------------\n",
      "Training set size: 200\n",
      "Training SVC...\n",
      "Done!\n",
      "Training time (secs): 0.002\n",
      "\n",
      "Predicting labels using SVC...\n",
      "Done!\n",
      "Prediction time (secs): 0.002\n",
      "F1 score for training set: 0.867924528302\n",
      "Predicting labels using SVC...\n",
      "Done!\n",
      "Prediction time (secs): 0.001\n",
      "F1 score for test set: 0.781456953642\n",
      "\n",
      "------------------------------------------\n",
      "Training set size: 300\n",
      "Training SVC...\n",
      "Done!\n",
      "Training time (secs): 0.005\n",
      "\n",
      "Predicting labels using SVC...\n",
      "Done!\n",
      "Prediction time (secs): 0.004\n",
      "F1 score for training set: 0.876068376068\n",
      "Predicting labels using SVC...\n",
      "Done!\n",
      "Prediction time (secs): 0.001\n",
      "F1 score for test set: 0.783783783784\n",
      "\n"
     ]
    }
   ],
   "source": [
    "from sklearn.svm import SVC\n",
    "clf = SVC(kernel='rbf')\n",
    "\n",
    "# Fit model to training data\n",
    "train_classifier(clf, X_train, y_train)  # note: using entire training set here\n",
    "#print clf  # you can inspect the learned model by printing it\n",
    "\n",
    "train_f1_score = predict_labels(clf, X_train, y_train)\n",
    "print \"F1 score for training set: {}\\n\".format(train_f1_score)\n",
    "\n",
    "# Predict on test data\n",
    "print \"F1 score for test set: {}\\n\".format(predict_labels(clf, X_test, y_test))\n",
    "\n",
    "train_predict(clf, X_train, y_train, X_test, y_test)\n",
    "\n",
    "kbest_columns, kbest_coefs = get_coefficents(clf)\n",
    "if kbest_columns is not None:\n",
    "    plot_scores_barh('kbest features', kbest_columns[:11], kbest_coefs[:11])"
   ]
  },
  {
   "cell_type": "markdown",
   "metadata": {},
   "source": [
    "### Model 3: KNeighborsClassifier"
   ]
  },
  {
   "cell_type": "markdown",
   "metadata": {},
   "source": [
    "**What is the theoretical O(n) time & space complexity in terms of input size?**\n",
    "<br>Time complexity: O(n_samples)\n",
    "<br>Space complexity: O(n_features * n_samples)\n",
    "\n",
    "**What are the general applications of this model? What are its strengths and weaknesses?**\n",
    "General applications \n",
    "- Simple classification \n",
    "- Character recognition \n",
    "- Clustering/Topic (text) classification  \n",
    "\n",
    "Advantages; \n",
    "- Simple \n",
    "- Work well with datasets with a small number of features \n",
    "- 'Lazy' learner (online training) \n",
    "- Nonparametric decision boundaries\n",
    "\n",
    "Disadvantages;\n",
    "- Memory intense (require a lot of memory) \n",
    "- Doesn't 'learn' \n",
    "- Affected by noisy data\n",
    "- Slow (distanced need to be calculated across all instances)\n",
    "\n",
    "**Given what you know about the data so far, why did you choose this model to apply?**<br>\n",
    "Despite the algorithm not meeting the functionality requirements (timely to reduce computational time) I choose KNN as a comparison/control for it's non-parametric properties (flexible decision boundaries). \n",
    "\n",
    "**Fit this model to the training data, try to predict labels (for both training and test sets), and measure the F<sub>1</sub> score. Repeat this process with different training set sizes (100, 200, 300), keeping test set constant.**"
   ]
  },
  {
   "cell_type": "code",
   "execution_count": 17,
   "metadata": {
    "collapsed": false
   },
   "outputs": [
    {
     "name": "stdout",
     "output_type": "stream",
     "text": [
      "Training KNeighborsClassifier...\n",
      "Done!\n",
      "Training time (secs): 0.003\n",
      "\n",
      "Predicting labels using KNeighborsClassifier...\n",
      "Done!\n",
      "Prediction time (secs): 0.006\n",
      "F1 score for training set: 1.0\n",
      "\n",
      "Predicting labels using KNeighborsClassifier...\n",
      "Done!\n",
      "Prediction time (secs): 0.002\n",
      "F1 score for test set: 0.780821917808\n",
      "\n",
      "------------------------------------------\n",
      "Training set size: 100\n",
      "Training KNeighborsClassifier...\n",
      "Done!\n",
      "Training time (secs): 0.000\n",
      "\n",
      "Predicting labels using KNeighborsClassifier...\n",
      "Done!\n",
      "Prediction time (secs): 0.001\n",
      "F1 score for training set: 1.0\n",
      "Predicting labels using KNeighborsClassifier...\n",
      "Done!\n",
      "Prediction time (secs): 0.001\n",
      "F1 score for test set: 0.762589928058\n",
      "\n",
      "------------------------------------------\n",
      "Training set size: 200\n",
      "Training KNeighborsClassifier...\n",
      "Done!\n",
      "Training time (secs): 0.000\n",
      "\n",
      "Predicting labels using KNeighborsClassifier...\n",
      "Done!\n",
      "Prediction time (secs): 0.002\n",
      "F1 score for training set: 1.0\n",
      "Predicting labels using KNeighborsClassifier...\n",
      "Done!\n",
      "Prediction time (secs): 0.001\n",
      "F1 score for test set: 0.786666666667\n",
      "\n",
      "------------------------------------------\n",
      "Training set size: 300\n",
      "Training KNeighborsClassifier...\n",
      "Done!\n",
      "Training time (secs): 0.000\n",
      "\n",
      "Predicting labels using KNeighborsClassifier...\n",
      "Done!\n",
      "Prediction time (secs): 0.005\n",
      "F1 score for training set: 1.0\n",
      "Predicting labels using KNeighborsClassifier...\n",
      "Done!\n",
      "Prediction time (secs): 0.002\n",
      "F1 score for test set: 0.780821917808\n",
      "\n"
     ]
    }
   ],
   "source": [
    "from sklearn.neighbors import KNeighborsClassifier\n",
    "# weights ['uniform', 'distance']:\n",
    "# we create an instance of Neighbours Classifier and fit the data.\n",
    "n_neighbors = 10\n",
    "clf = KNeighborsClassifier(n_neighbors, weights='distance')\n",
    "\n",
    "# Fit model to training data\n",
    "train_classifier(clf, X_train, y_train)  # note: using entire training set here\n",
    "#print clf  # you can inspect the learned model by printing it\n",
    "\n",
    "train_f1_score = predict_labels(clf, X_train, y_train)\n",
    "print \"F1 score for training set: {}\\n\".format(train_f1_score)\n",
    "\n",
    "# Predict on test data\n",
    "print \"F1 score for test set: {}\\n\".format(predict_labels(clf, X_test, y_test))\n",
    "\n",
    "train_predict(clf, X_train, y_train, X_test, y_test)\n",
    "\n",
    "kbest_columns, kbest_coefs = get_coefficents(clf)\n",
    "if kbest_columns is not None:\n",
    "    plot_scores_barh('kbest features', kbest_columns[:11], kbest_coefs[:11])"
   ]
  },
  {
   "cell_type": "markdown",
   "metadata": {},
   "source": [
    "## 5. Choosing the Best Model\n",
    "\n",
    "- Based on the experiments you performed earlier, in 1-2 paragraphs explain to the board of supervisors what single model you chose as the best model. Which model is generally the most appropriate based on the available data, limited resources, cost, and performance?\n",
    "- In 1-2 paragraphs explain to the board of supervisors in layman's terms how the final model chosen is supposed to work (for example if you chose a Decision Tree or Support Vector Machine, how does it make a prediction).\n",
    "- Fine-tune the model. Use Gridsearch with at least one important parameter tuned and with at least 3 settings. Use the entire training set for this.\n",
    "- What is the model's final F<sub>1</sub> score?"
   ]
  },
  {
   "cell_type": "markdown",
   "metadata": {
    "collapsed": true
   },
   "source": [
    "####(1)\n",
    "I have chosen Logistic Regression as the model; This model produced the best F1 score out of the 3 models I tested, it also is the most effective (least computation cost) model addressing some of the functional and business constraints of the intended service.\n",
    "\n",
    "Another important aspect (by product) is the model presents properties of 'good performers' and 'bad performers' such that effective intervention can take place using these are further insights. "
   ]
  },
  {
   "cell_type": "markdown",
   "metadata": {},
   "source": [
    "####(2)\n",
    "Logistic Regression is one of the simplest Machine Learning algorithms and is based on the premise that the data can be split linearly by a form of function applied to the independent variables (features).\n",
    "\n",
    "This is probably best illustrated through the use of a simple example; Imagine a dataset that has recorded student study time and whether they passed or not (i.e. binary classification). \n",
    "\n",
    "Here the feature is 'study time (hours)' and class is a binary output of y/1 (passed) or n/0 (failed). The job of the Logistic Regression is to model the probability of the student passing based on their ‘study time’ (at least in context of this example). \n",
    "\n",
    "Similar to Linear Regression, we find a line that best fits the data by deriving a constant and weights for each of the feature variables (i.e. study time) - a best fit line might look similar to the figure shown below.. \n",
    "######FIGURE IN REPORT######\n",
    " \n",
    "But unlike Linear Regression, our goal is to predict the probability of a student passing given their study time. To achieve this (constrain the output between 0 and 1 aka probability) we pass the function (constant and weights/coefficients) through the logistic function, which will return a value between 0 and 1 (our probability). \n",
    "The following figure illustrates how it differs (visually) from above. \n",
    "######FIGURE IN REPORT######\n",
    " \n",
    "Once the model has been trained, predictions are made by passing the feature variables through the model (using the derived constant, feature weights and logistic function) to obtain the probability, classification is then derived.\n",
    "\n",
    "The weights are calculated using maximum likelihood estimate method, which returns the parameters that result in the minimum error between the trained predicted value and actual value (from the training dataset). "
   ]
  },
  {
   "cell_type": "markdown",
   "metadata": {},
   "source": [
    "####(3)"
   ]
  },
  {
   "cell_type": "markdown",
   "metadata": {},
   "source": [
    "#####Feature Selection"
   ]
  },
  {
   "cell_type": "code",
   "execution_count": 18,
   "metadata": {
    "collapsed": false
   },
   "outputs": [
    {
     "name": "stdout",
     "output_type": "stream",
     "text": [
      "Number of columns 48\n"
     ]
    },
    {
     "data": {
      "image/png": "[encoded data removed]",
      "text/plain": [
       "<matplotlib.figure.Figure at 0x10bf0e6d0>"
      ]
     },
     "metadata": {},
     "output_type": "display_data"
    }
   ],
   "source": [
    "#from sklearn.feature_selection import SelectPercentile\n",
    "#from sklearn.feature_selection import f_classif\n",
    "from sklearn.feature_selection import SelectKBest \n",
    "from sklearn.feature_selection import chi2\n",
    "\n",
    "k = 20\n",
    "\n",
    "columns = list(X_all_expanded.columns)\n",
    "print(\"Number of columns {}\".format(len(columns))) # 48\n",
    "\n",
    "#selector = SelectPercentile(chi2, percentile=10)\n",
    "selector = SelectKBest(chi2, k=k)\n",
    "selector.fit(X_all_expanded, y_all)\n",
    "#X_all_expanded_top = selector.transform(X_all_expanded)\n",
    "\n",
    "column_scores = []\n",
    "    \n",
    "for i in range(len(selector.scores_)):\n",
    "    column = columns[i] \n",
    "    score = selector.scores_[i]\n",
    "    column_scores.append((column, score))\n",
    "    \n",
    "column_scores = sorted(column_scores, key=lambda tup: tup[1], reverse=True)[:k]\n",
    "\n",
    "kbest_columns = [score[0] for score in column_scores] \n",
    "kbest_scores = [score[1] for score in column_scores] \n",
    "\n",
    "y_pos = np.arange(len(kbest_scores)) + 0.5\n",
    "plt.barh(y_pos, kbest_scores, align='center')\n",
    "plt.title(\"K best features using chi2\")\n",
    "plt.xlabel(\"Scores\")\n",
    "plt.yticks(y_pos, tuple(kbest_columns))\n",
    "plt.show()"
   ]
  },
  {
   "cell_type": "markdown",
   "metadata": {},
   "source": [
    "#####GridSearch"
   ]
  },
  {
   "cell_type": "code",
   "execution_count": 19,
   "metadata": {
    "collapsed": false
   },
   "outputs": [
    {
     "name": "stdout",
     "output_type": "stream",
     "text": [
      "LogisticRegression(C=0.1, class_weight=None, dual=False, fit_intercept=True,\n",
      "          intercept_scaling=1, penalty='l1', random_state=42, tol=0.0001)\n"
     ]
    },
    {
     "name": "stderr",
     "output_type": "stream",
     "text": [
      "/Users/josh/anaconda/lib/python2.7/site-packages/sklearn/metrics/metrics.py:1771: UndefinedMetricWarning: F-score is ill-defined and being set to 0.0 due to no predicted samples.\n",
      "  'precision', 'predicted', average, warn_for)\n"
     ]
    }
   ],
   "source": [
    "from sklearn.metrics import f1_score\n",
    "from sklearn.metrics import make_scorer\n",
    "from sklearn import grid_search\n",
    "\n",
    "\"\"\"feature selection\"\"\"\n",
    "from sklearn.feature_selection import f_classif\n",
    "from sklearn.feature_selection import chi2\n",
    "\n",
    "\"\"\"classifier\"\"\"\n",
    "from sklearn.linear_model import LogisticRegression\n",
    "\n",
    "f1_scorer = make_scorer(f1_score, pos_label=\"yes\")\n",
    "\n",
    "# 'penalty': ['l2', 'l1']\n",
    "# 'solver' : ['newton-cg', 'lbfgs', 'liblinear', 'sag'],\n",
    "\n",
    "classifier_parameters = {'penalty': ['l2', 'l1'], \n",
    "                         'C':[0.001, 0.005, 0.1, 0.25, 0.5, 1.0, 1.5, 2.5, 10.0, 50.0, 100.0]}\n",
    "\n",
    "gridsearch_clf = grid_search.GridSearchCV(LogisticRegression(random_state=42), \n",
    "                                          classifier_parameters, \n",
    "                                          scoring=f1_scorer)\n",
    "\n",
    "gridsearch_clf.fit(X_train, y_train)\n",
    "best_clf = gridsearch_clf.best_estimator_ \n",
    "print(best_clf)"
   ]
  },
  {
   "cell_type": "code",
   "execution_count": 20,
   "metadata": {
    "collapsed": false
   },
   "outputs": [
    {
     "name": "stdout",
     "output_type": "stream",
     "text": [
      "***Best Classifier***\n",
      "Best f1 score 0.805555555556\n",
      "Best SelectKBest SelectKBest(k=10, score_func=<function f_classif at 0x108c2b6e0>)\n",
      "Best Estimator LogisticRegression(C=0.25, class_weight=None, dual=False, fit_intercept=True,\n",
      "          intercept_scaling=1, penalty='l1', random_state=42, tol=0.0001)\n"
     ]
    }
   ],
   "source": [
    "\"\"\"training\"\"\"\n",
    "best_f1 = 0.0 \n",
    "best_selector = None\n",
    "best_classifier = None \n",
    "\n",
    "for score_func in [chi2, f_classif]:\n",
    "    for k in [48, 45, 40, 35, 30, 25, 20, 15, 10, 8, 5]:\n",
    "        #print(\"*** Iterating with SelectKBest params: score_func = {}, k={} *** \".format(score_func, k))                \n",
    "        \n",
    "        feature_selection_clf = SelectKBest(score_func=score_func, k=k)\n",
    "        feature_selection_clf.fit(X_train, y_train)        \n",
    "        \n",
    "        best_X_all_expanded = feature_selection_clf.transform(X_all_expanded)        \n",
    "        gridsearch_clf.fit(best_X_all_expanded, y_all)\n",
    "        best_clf = gridsearch_clf.best_estimator_ \n",
    "        \n",
    "        X_train_best = feature_selection_clf.transform(X_train)\n",
    "        best_clf.fit(X_train_best, y_train)\n",
    "\n",
    "        \"\"\"evaluating\"\"\"        \n",
    "        train_f1_score = predict_labels(best_clf, X_train_best, y_train, log_output=False)\n",
    "        #print \"F1 score for training set: {}\".format(train_f1_score)\n",
    "\n",
    "        # Predict on test data\n",
    "        X_test_best = feature_selection_clf.transform(X_test)\n",
    "        test_f1_score = predict_labels(gridsearch_clf, X_test_best, y_test, log_output=False)\n",
    "        #print \"F1 score for test set: {}\".format(test_f1_score)\n",
    "        \n",
    "        if test_f1_score > best_f1:\n",
    "            best_f1 = test_f1_score\n",
    "            best_selector = feature_selection_clf\n",
    "            best_classifier = gridsearch_clf.best_estimator_ \n",
    "            \n",
    "print(\"***Best Classifier***\")\n",
    "print(\"Best f1 score {}\".format(best_f1))\n",
    "print(\"Best SelectKBest {}\".format(best_selector))\n",
    "print(\"Best Estimator {}\".format(best_classifier))\n"
   ]
  },
  {
   "cell_type": "code",
   "execution_count": 21,
   "metadata": {
    "collapsed": false
   },
   "outputs": [
    {
     "name": "stdout",
     "output_type": "stream",
     "text": [
      "Predicting labels using Pipeline...\n",
      "Done!\n",
      "Prediction time (secs): 0.000\n",
      "F1 score for test set: 0.805555555556\n",
      "\n"
     ]
    }
   ],
   "source": [
    "from sklearn.feature_selection import chi2\n",
    "from sklearn.linear_model import LogisticRegression\n",
    "\n",
    "selector = SelectKBest(score_func=chi2, k=10)\n",
    "classifier = LogisticRegression(C=0.1, penalty='l1')\n",
    "\n",
    "from sklearn.pipeline import Pipeline\n",
    "\n",
    "clf = Pipeline([\n",
    "        ('feature_selection', selector),\n",
    "        ('classification', classifier)])\n",
    "\n",
    "clf.fit(X_train, y_train)\n",
    "test_f1_score = predict_labels(clf, X_test, y_test)\n",
    "print \"F1 score for test set: {}\\n\".format(test_f1_score)\n",
    "\n",
    "# classifier.fit(X_train, y_train)\n",
    "# test_f1_score = predict_labels(classifier, X_test, y_test)\n",
    "# print \"F1 score for test set: {}\\n\".format(test_f1_score)"
   ]
  },
  {
   "cell_type": "markdown",
   "metadata": {},
   "source": [
    "---"
   ]
  },
  {
   "cell_type": "markdown",
   "metadata": {},
   "source": [
    "##Alternatives "
   ]
  },
  {
   "cell_type": "code",
   "execution_count": null,
   "metadata": {
    "collapsed": false
   },
   "outputs": [],
   "source": [
    "from sklearn import preprocessing\n",
    "\n",
    "le = preprocessing.LabelEncoder()\n",
    "\n",
    "def preprocess_features_b(X):\n",
    "    outX = pd.DataFrame(index=X.index)  # output dataframe, initially empty\n",
    "\n",
    "    # Check each column\n",
    "    for col, col_data in X.iteritems():\n",
    "        # If data type is non-numeric, try to replace all yes/no values with 1/0\n",
    "        if col_data.dtype == object:            \n",
    "            name = col_data.name\n",
    "            col_data = le.fit_transform(col_data)\n",
    "            col_data = pd.Series(col_data, name=name)\n",
    "\n",
    "        outX = outX.join(col_data)  # collect column(s) in output dataframe\n",
    "\n",
    "    return outX\n",
    "\n",
    "X_all_encoded = preprocess_features_b(X_all)"
   ]
  },
  {
   "cell_type": "code",
   "execution_count": null,
   "metadata": {
    "collapsed": false
   },
   "outputs": [],
   "source": [
    "# First, decide how many training vs test samples you want\n",
    "num_all = student_data.shape[0]  # same as len(student_data)\n",
    "num_train = 300  # about 75% of the data\n",
    "num_test = num_all - num_train\n",
    "\n",
    "# TODO: Then, select features (X) and corresponding labels (y) for the training and test sets\n",
    "# Note: Shuffle the data or randomly select samples to avoid any bias due to ordering in the dataset\n",
    "\n",
    "from sklearn import cross_validation\n",
    "\n",
    "X_train_b, X_test_b, y_train_b, y_test_b = cross_validation.train_test_split(X_all_encoded, \n",
    "                                                                             y_all,\n",
    "                                                                             test_size=num_test, \n",
    "                                                                             random_state=42)\n",
    "\n",
    "print \"Training set: {} samples\".format(X_train_b.shape[0])\n",
    "print \"Test set: {} samples\".format(X_test_b.shape[0])\n",
    "# Note: If you need a validation set, extract it from within training data"
   ]
  },
  {
   "cell_type": "markdown",
   "metadata": {},
   "source": [
    "### Model 4: RandomForest "
   ]
  },
  {
   "cell_type": "markdown",
   "metadata": {},
   "source": [
    "**What is the theoretical O(n) time & space complexity in terms of input size?**\n",
    "<br>Time complexity: TODO\n",
    "<br>Space complexity: TODO\n",
    "\n",
    "**What are the general applications of this model? What are its strengths and weaknesses?**\n",
    "General applications \n",
    "- TODO\n",
    "\n",
    "Advantages; \n",
    "- Interpretability\n",
    "- Do not expect linear features (or even features that interact linearly)\n",
    "- Handle categorical data \n",
    "\n",
    "Disadvantages;\n",
    "- Prone to over-fitting \n",
    "- Requires offline training\n",
    "\n",
    "**Given what you know about the data so far, why did you choose this model to apply?**\n",
    "TODO\n",
    "\n",
    "**Fit this model to the training data, try to predict labels (for both training and test sets), and measure the F<sub>1</sub> score. Repeat this process with different training set sizes (100, 200, 300), keeping test set constant.**"
   ]
  },
  {
   "cell_type": "code",
   "execution_count": null,
   "metadata": {
    "collapsed": false
   },
   "outputs": [],
   "source": [
    "from sklearn.datasets import load_iris\n",
    "from sklearn.ensemble import RandomForestClassifier\n",
    "\n",
    "clf = RandomForestClassifier(n_estimators=20)\n",
    "\n",
    "# Fit model to training data\n",
    "train_classifier(clf, X_train_b, y_train_b)\n",
    "#print clf  # you can inspect the learned model by printing it\n",
    "\n",
    "train_f1_score = predict_labels(clf, X_train_b, y_train_b)\n",
    "print \"F1 score for training set: {}\\n\".format(train_f1_score)\n",
    "\n",
    "# Predict on test data\n",
    "print \"F1 score for test set: {}\\n\".format(predict_labels(clf, X_test_b, y_test_b))\n",
    "\n",
    "train_predict(clf, X_train_b, y_train_b, X_test_b, y_test_b)\n",
    "\n",
    "kbest_columns, kbest_coefs = get_coefficents(clf)\n",
    "if kbest_columns is not None:\n",
    "    plot_scores_barh('kbest features', kbest_columns[:11], kbest_coefs[:11])"
   ]
  },
  {
   "cell_type": "markdown",
   "metadata": {},
   "source": [
    "### Model 4: Naive Bayes "
   ]
  },
  {
   "cell_type": "markdown",
   "metadata": {},
   "source": [
    "**What is the theoretical O(n) time & space complexity in terms of input size?**\n",
    "<br>Time complexity: O(1)\n",
    "<br>Space complexity: O(n_features * n_samples)\n",
    "\n",
    "**What are the general applications of this model? What are its strengths and weaknesses?**\n",
    "General applications \n",
    "- Text classification \n",
    "- Email spam filtering\n",
    "\n",
    "Advantages; \n",
    "- Simple\n",
    "- Handles non-linear data \n",
    "\n",
    "Disadvantages;\n",
    "- ...\n",
    "\n",
    "**Given what you know about the data so far, why did you choose this model to apply?**\n",
    "TODO\n",
    "\n",
    "**Fit this model to the training data, try to predict labels (for both training and test sets), and measure the F<sub>1</sub> score. Repeat this process with different training set sizes (100, 200, 300), keeping test set constant.**"
   ]
  },
  {
   "cell_type": "code",
   "execution_count": null,
   "metadata": {
    "collapsed": false
   },
   "outputs": [],
   "source": [
    "from sklearn.naive_bayes import GaussianNB\n",
    "clf = GaussianNB()\n",
    "\n",
    "# Fit model to training data\n",
    "train_classifier(clf, X_train_b, y_train_b)\n",
    "#print clf  # you can inspect the learned model by printing it\n",
    "\n",
    "train_f1_score = predict_labels(clf, X_train_b, y_train_b)\n",
    "print \"F1 score for training set: {}\\n\".format(train_f1_score)\n",
    "\n",
    "# Predict on test data\n",
    "print \"F1 score for test set: {}\\n\".format(predict_labels(clf, X_test_b, y_test_b))\n",
    "\n",
    "train_predict(clf, X_train_b, y_train_b, X_test_b, y_test_b)"
   ]
  },
  {
   "cell_type": "code",
   "execution_count": null,
   "metadata": {
    "collapsed": true
   },
   "outputs": [],
   "source": []
  }
 ],
 "metadata": {
  "kernelspec": {
   "display_name": "Python 2",
   "language": "python",
   "name": "python2"
  },
  "language_info": {
   "codemirror_mode": {
    "name": "ipython",
    "version": 2
   },
   "file_extension": ".py",
   "mimetype": "text/x-python",
   "name": "python",
   "nbconvert_exporter": "python",
   "pygments_lexer": "ipython2",
   "version": "2.7.9"
  }
 },
 "nbformat": 4,
 "nbformat_minor": 0
}
